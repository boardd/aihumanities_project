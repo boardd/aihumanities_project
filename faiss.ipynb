{
 "cells": [
  {
   "cell_type": "code",
   "execution_count": 2,
   "metadata": {},
   "outputs": [
    {
     "name": "stdout",
     "output_type": "stream",
     "text": [
      "\u001b[33mWARNING: You are using pip version 21.2.4; however, version 24.0 is available.\n",
      "You should consider upgrading via the '/Library/Developer/CommandLineTools/usr/bin/python3 -m pip install --upgrade pip' command.\u001b[0m\n",
      "Note: you may need to restart the kernel to use updated packages.\n"
     ]
    }
   ],
   "source": [
    "%pip install faiss-cpu supervision -q"
   ]
  },
  {
   "cell_type": "code",
   "execution_count": 3,
   "metadata": {},
   "outputs": [],
   "source": [
    "import os\n",
    "image_dir = 'images'\n",
    "gallery_dir = 'images/gallery_paintings'\n",
    "\n",
    "list_imgs = sorted(os.listdir(gallery_dir))"
   ]
  },
  {
   "cell_type": "code",
   "execution_count": 4,
   "metadata": {},
   "outputs": [
    {
     "name": "stderr",
     "output_type": "stream",
     "text": [
      "/Users/jaimielee/Library/Python/3.9/lib/python/site-packages/urllib3/__init__.py:34: NotOpenSSLWarning: urllib3 v2.0 only supports OpenSSL 1.1.1+, currently the 'ssl' module is compiled with 'LibreSSL 2.8.3'. See: https://github.com/urllib3/urllib3/issues/3020\n",
      "  warnings.warn(\n",
      "/Users/jaimielee/Library/Python/3.9/lib/python/site-packages/tqdm/auto.py:21: TqdmWarning: IProgress not found. Please update jupyter and ipywidgets. See https://ipywidgets.readthedocs.io/en/stable/user_install.html\n",
      "  from .autonotebook import tqdm as notebook_tqdm\n",
      "/Users/jaimielee/Library/Python/3.9/lib/python/site-packages/transformers/utils/generic.py:441: UserWarning: torch.utils._pytree._register_pytree_node is deprecated. Please use torch.utils._pytree.register_pytree_node instead.\n",
      "  _torch_pytree._register_pytree_node(\n"
     ]
    }
   ],
   "source": [
    "from torchvision import datasets, transforms\n",
    "import torch\n",
    "\n",
    "# create dataloader with required transforms \n",
    "tc = transforms.Compose([\n",
    "        transforms.Resize((256, 256)),\n",
    "        transforms.ToTensor()              \n",
    "    ])\n",
    "\n",
    "image_datasets = datasets.ImageFolder(image_dir, transform=tc)\n",
    "dloader = torch.utils.data.DataLoader(image_datasets, batch_size=10, shuffle=False)"
   ]
  },
  {
   "cell_type": "code",
   "execution_count": 5,
   "metadata": {},
   "outputs": [
    {
     "name": "stderr",
     "output_type": "stream",
     "text": [
      "Using cache found in /Users/jaimielee/.cache/torch/hub/pytorch_vision_v0.10.0\n"
     ]
    }
   ],
   "source": [
    "model = torch.hub.load('pytorch/vision:v0.10.0', 'resnet50')\n",
    "\n",
    "# Select the desired layer\n",
    "layer = model._modules.get('avgpool')\n",
    "\n",
    "outputs = []\n",
    "def copy_embeddings(m, i, o):\n",
    "    \"\"\"Copy embeddings from the penultimate layer.\n",
    "    \"\"\"\n",
    "    o = o[:, :, 0, 0].detach().numpy().tolist()\n",
    "    outputs.append(o)\n",
    "\n",
    "# attach hook to the penulimate layer\n",
    "_ = layer.register_forward_hook(copy_embeddings)\n",
    "\n",
    "# Generate image's embeddings for all images in dloader and saves \n",
    "# them in the list outputs\n",
    "for img, _ in dloader:\n",
    "    _ = model(img)\n",
    "\n",
    "list_embeddings = [item for sublist in outputs for item in sublist]"
   ]
  },
  {
   "cell_type": "code",
   "execution_count": 6,
   "metadata": {},
   "outputs": [
    {
     "data": {
      "text/plain": [
       "2048"
      ]
     },
     "execution_count": 6,
     "metadata": {},
     "output_type": "execute_result"
    }
   ],
   "source": [
    "len(list_embeddings[1])"
   ]
  },
  {
   "cell_type": "code",
   "execution_count": 7,
   "metadata": {},
   "outputs": [],
   "source": [
    "import base64\n",
    "import os\n",
    "from io import BytesIO\n",
    "import cv2\n",
    "import faiss\n",
    "import numpy as np\n",
    "import requests\n",
    "from PIL import Image\n",
    "import json\n",
    "import supervision as sv"
   ]
  },
  {
   "cell_type": "code",
   "execution_count": 8,
   "metadata": {},
   "outputs": [],
   "source": [
    "index = faiss.IndexFlatL2(2048)\n",
    "\n",
    "list_embeddings = np.stack(list_embeddings)\n",
    "index.add(list_embeddings)\n",
    "\n",
    "# for embedding in list_embeddings:\n",
    "#     index.add(np.array(embedding).astype(np.float32).reshape(2048,1))\n",
    "\n",
    "faiss.write_index(index, \"index.bin\")\n",
    "\n",
    "with open(\"index.json\", \"w\") as f:\n",
    " \tjson.dump(list_imgs, f)"
   ]
  },
  {
   "cell_type": "code",
   "execution_count": 9,
   "metadata": {},
   "outputs": [
    {
     "name": "stdout",
     "output_type": "stream",
     "text": [
      "1\n",
      "2048\n"
     ]
    }
   ],
   "source": [
    "test_dir = 'test'\n",
    "test_datasets = datasets.ImageFolder(test_dir, transform=tc)\n",
    "dloader = torch.utils.data.DataLoader(test_datasets, batch_size=10, shuffle=False)\n",
    "\n",
    "outputs = []\n",
    "for img, _ in dloader:\n",
    "    _ = model(img)\n",
    "test_embedding = [item for sublist in outputs for item in sublist]\n",
    "print(len(test_embedding))\n",
    "print(len(test_embedding[0]))"
   ]
  },
  {
   "cell_type": "code",
   "execution_count": 15,
   "metadata": {},
   "outputs": [
    {
     "ename": "",
     "evalue": "",
     "output_type": "error",
     "traceback": [
      "\u001b[1;31mCannot execute code, session has been disposed. Please try restarting the Kernel."
     ]
    },
    {
     "ename": "",
     "evalue": "",
     "output_type": "error",
     "traceback": [
      "\u001b[1;31mThe Kernel crashed while executing code in the the current cell or a previous cell. Please review the code in the cell(s) to identify a possible cause of the failure. Click <a href='https://aka.ms/vscodeJupyterKernelCrash'>here</a> for more info. View Jupyter <a href='command:jupyter.viewOutput'>log</a> for further details."
     ]
    }
   ],
   "source": [
    "RESULTS_NUM = 2\n",
    "\n",
    "query = test_embedding[0]\n",
    "# test_embedding = np.stack(test_embedding)\n",
    "D, I = index.search(np.array(query).reshape(1,2048), RESULTS_NUM)\n",
    "\n",
    "images = [cv2.imread(os.path.join(gallery_dir, list_imgs[i])) for i in I[0]]\n",
    "\n",
    "sv.plot_images_grid(images, (3, 3))"
   ]
  }
 ],
 "metadata": {
  "kernelspec": {
   "display_name": "Python 3",
   "language": "python",
   "name": "python3"
  },
  "language_info": {
   "codemirror_mode": {
    "name": "ipython",
    "version": 3
   },
   "file_extension": ".py",
   "mimetype": "text/x-python",
   "name": "python",
   "nbconvert_exporter": "python",
   "pygments_lexer": "ipython3",
   "version": "3.9.6"
  },
  "orig_nbformat": 4
 },
 "nbformat": 4,
 "nbformat_minor": 2
}
